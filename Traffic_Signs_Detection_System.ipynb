{
  "nbformat": 4,
  "nbformat_minor": 0,
  "metadata": {
    "colab": {
      "provenance": [],
      "gpuType": "T4",
      "authorship_tag": "ABX9TyNnjdEm6S5GRrM/eUFeF6Zl"
    },
    "kernelspec": {
      "name": "python3",
      "display_name": "Python 3"
    },
    "language_info": {
      "name": "python"
    },
    "accelerator": "GPU"
  },
  "cells": [
    {
      "cell_type": "code",
      "execution_count": 3,
      "metadata": {
        "colab": {
          "base_uri": "https://localhost:8080/",
          "height": 55
        },
        "id": "cwP4e9zLD3Tv",
        "outputId": "4eb8de0a-6a4f-4591-b4f6-0ed3724fea5a"
      },
      "outputs": [
        {
          "output_type": "display_data",
          "data": {
            "text/plain": [
              "<IPython.core.display.HTML object>"
            ],
            "text/html": [
              "\n",
              "     <input type=\"file\" id=\"files-2c9d1303-bb14-4df8-8cfa-744f5cc21d96\" name=\"files[]\" multiple disabled\n",
              "        style=\"border:none\" />\n",
              "     <output id=\"result-2c9d1303-bb14-4df8-8cfa-744f5cc21d96\">\n",
              "      Upload widget is only available when the cell has been executed in the\n",
              "      current browser session. Please rerun this cell to enable.\n",
              "      </output>\n",
              "      <script>// Copyright 2017 Google LLC\n",
              "//\n",
              "// Licensed under the Apache License, Version 2.0 (the \"License\");\n",
              "// you may not use this file except in compliance with the License.\n",
              "// You may obtain a copy of the License at\n",
              "//\n",
              "//      http://www.apache.org/licenses/LICENSE-2.0\n",
              "//\n",
              "// Unless required by applicable law or agreed to in writing, software\n",
              "// distributed under the License is distributed on an \"AS IS\" BASIS,\n",
              "// WITHOUT WARRANTIES OR CONDITIONS OF ANY KIND, either express or implied.\n",
              "// See the License for the specific language governing permissions and\n",
              "// limitations under the License.\n",
              "\n",
              "/**\n",
              " * @fileoverview Helpers for google.colab Python module.\n",
              " */\n",
              "(function(scope) {\n",
              "function span(text, styleAttributes = {}) {\n",
              "  const element = document.createElement('span');\n",
              "  element.textContent = text;\n",
              "  for (const key of Object.keys(styleAttributes)) {\n",
              "    element.style[key] = styleAttributes[key];\n",
              "  }\n",
              "  return element;\n",
              "}\n",
              "\n",
              "// Max number of bytes which will be uploaded at a time.\n",
              "const MAX_PAYLOAD_SIZE = 100 * 1024;\n",
              "\n",
              "function _uploadFiles(inputId, outputId) {\n",
              "  const steps = uploadFilesStep(inputId, outputId);\n",
              "  const outputElement = document.getElementById(outputId);\n",
              "  // Cache steps on the outputElement to make it available for the next call\n",
              "  // to uploadFilesContinue from Python.\n",
              "  outputElement.steps = steps;\n",
              "\n",
              "  return _uploadFilesContinue(outputId);\n",
              "}\n",
              "\n",
              "// This is roughly an async generator (not supported in the browser yet),\n",
              "// where there are multiple asynchronous steps and the Python side is going\n",
              "// to poll for completion of each step.\n",
              "// This uses a Promise to block the python side on completion of each step,\n",
              "// then passes the result of the previous step as the input to the next step.\n",
              "function _uploadFilesContinue(outputId) {\n",
              "  const outputElement = document.getElementById(outputId);\n",
              "  const steps = outputElement.steps;\n",
              "\n",
              "  const next = steps.next(outputElement.lastPromiseValue);\n",
              "  return Promise.resolve(next.value.promise).then((value) => {\n",
              "    // Cache the last promise value to make it available to the next\n",
              "    // step of the generator.\n",
              "    outputElement.lastPromiseValue = value;\n",
              "    return next.value.response;\n",
              "  });\n",
              "}\n",
              "\n",
              "/**\n",
              " * Generator function which is called between each async step of the upload\n",
              " * process.\n",
              " * @param {string} inputId Element ID of the input file picker element.\n",
              " * @param {string} outputId Element ID of the output display.\n",
              " * @return {!Iterable<!Object>} Iterable of next steps.\n",
              " */\n",
              "function* uploadFilesStep(inputId, outputId) {\n",
              "  const inputElement = document.getElementById(inputId);\n",
              "  inputElement.disabled = false;\n",
              "\n",
              "  const outputElement = document.getElementById(outputId);\n",
              "  outputElement.innerHTML = '';\n",
              "\n",
              "  const pickedPromise = new Promise((resolve) => {\n",
              "    inputElement.addEventListener('change', (e) => {\n",
              "      resolve(e.target.files);\n",
              "    });\n",
              "  });\n",
              "\n",
              "  const cancel = document.createElement('button');\n",
              "  inputElement.parentElement.appendChild(cancel);\n",
              "  cancel.textContent = 'Cancel upload';\n",
              "  const cancelPromise = new Promise((resolve) => {\n",
              "    cancel.onclick = () => {\n",
              "      resolve(null);\n",
              "    };\n",
              "  });\n",
              "\n",
              "  // Wait for the user to pick the files.\n",
              "  const files = yield {\n",
              "    promise: Promise.race([pickedPromise, cancelPromise]),\n",
              "    response: {\n",
              "      action: 'starting',\n",
              "    }\n",
              "  };\n",
              "\n",
              "  cancel.remove();\n",
              "\n",
              "  // Disable the input element since further picks are not allowed.\n",
              "  inputElement.disabled = true;\n",
              "\n",
              "  if (!files) {\n",
              "    return {\n",
              "      response: {\n",
              "        action: 'complete',\n",
              "      }\n",
              "    };\n",
              "  }\n",
              "\n",
              "  for (const file of files) {\n",
              "    const li = document.createElement('li');\n",
              "    li.append(span(file.name, {fontWeight: 'bold'}));\n",
              "    li.append(span(\n",
              "        `(${file.type || 'n/a'}) - ${file.size} bytes, ` +\n",
              "        `last modified: ${\n",
              "            file.lastModifiedDate ? file.lastModifiedDate.toLocaleDateString() :\n",
              "                                    'n/a'} - `));\n",
              "    const percent = span('0% done');\n",
              "    li.appendChild(percent);\n",
              "\n",
              "    outputElement.appendChild(li);\n",
              "\n",
              "    const fileDataPromise = new Promise((resolve) => {\n",
              "      const reader = new FileReader();\n",
              "      reader.onload = (e) => {\n",
              "        resolve(e.target.result);\n",
              "      };\n",
              "      reader.readAsArrayBuffer(file);\n",
              "    });\n",
              "    // Wait for the data to be ready.\n",
              "    let fileData = yield {\n",
              "      promise: fileDataPromise,\n",
              "      response: {\n",
              "        action: 'continue',\n",
              "      }\n",
              "    };\n",
              "\n",
              "    // Use a chunked sending to avoid message size limits. See b/62115660.\n",
              "    let position = 0;\n",
              "    do {\n",
              "      const length = Math.min(fileData.byteLength - position, MAX_PAYLOAD_SIZE);\n",
              "      const chunk = new Uint8Array(fileData, position, length);\n",
              "      position += length;\n",
              "\n",
              "      const base64 = btoa(String.fromCharCode.apply(null, chunk));\n",
              "      yield {\n",
              "        response: {\n",
              "          action: 'append',\n",
              "          file: file.name,\n",
              "          data: base64,\n",
              "        },\n",
              "      };\n",
              "\n",
              "      let percentDone = fileData.byteLength === 0 ?\n",
              "          100 :\n",
              "          Math.round((position / fileData.byteLength) * 100);\n",
              "      percent.textContent = `${percentDone}% done`;\n",
              "\n",
              "    } while (position < fileData.byteLength);\n",
              "  }\n",
              "\n",
              "  // All done.\n",
              "  yield {\n",
              "    response: {\n",
              "      action: 'complete',\n",
              "    }\n",
              "  };\n",
              "}\n",
              "\n",
              "scope.google = scope.google || {};\n",
              "scope.google.colab = scope.google.colab || {};\n",
              "scope.google.colab._files = {\n",
              "  _uploadFiles,\n",
              "  _uploadFilesContinue,\n",
              "};\n",
              "})(self);\n",
              "</script> "
            ]
          },
          "metadata": {}
        },
        {
          "output_type": "execute_result",
          "data": {
            "text/plain": [
              "{}"
            ]
          },
          "metadata": {},
          "execution_count": 3
        }
      ],
      "source": [
        "from google.colab import files\n",
        "files.upload()"
      ]
    },
    {
      "cell_type": "code",
      "source": [
        "!pip install -q kaggle"
      ],
      "metadata": {
        "id": "vuKAOnfCOgaa"
      },
      "execution_count": 3,
      "outputs": []
    },
    {
      "cell_type": "code",
      "source": [
        "!mkdir -p ~/.kaggle\n",
        "!cp kaggle.json ~/.kaggle/\n",
        "\n",
        "!chmod 600 ~/.kaggle/kaggle.json #set permissions"
      ],
      "metadata": {
        "id": "aRtrj8X5Og7f"
      },
      "execution_count": 4,
      "outputs": []
    },
    {
      "cell_type": "code",
      "source": [
        "# Create a new dir for traffic sign dataset\n",
        "!mkdir traffic_sign_dataset\n",
        "%cd traffic_sign_dataset"
      ],
      "metadata": {
        "colab": {
          "base_uri": "https://localhost:8080/"
        },
        "id": "4_eCa9DYQ2q3",
        "outputId": "29a54d59-581d-44cd-d50b-e6c36ad54e9f"
      },
      "execution_count": 5,
      "outputs": [
        {
          "output_type": "stream",
          "name": "stdout",
          "text": [
            "/content/traffic_sign_dataset\n"
          ]
        }
      ]
    },
    {
      "cell_type": "code",
      "source": [
        "#Download the dataset\n",
        "!kaggle datasets download -d meowmeowmeowmeowmeow/gtsrb-german-traffic-sign"
      ],
      "metadata": {
        "colab": {
          "base_uri": "https://localhost:8080/"
        },
        "id": "RTYmCoJ1Rk6E",
        "outputId": "0e55cb62-6cf4-46fe-f5ba-690c7522d55d"
      },
      "execution_count": 22,
      "outputs": [
        {
          "output_type": "stream",
          "name": "stdout",
          "text": [
            "Downloading gtsrb-german-traffic-sign.zip to /content/traffic_sign_dataset\n",
            " 98% 597M/612M [00:07<00:00, 186MB/s]\n",
            "100% 612M/612M [00:07<00:00, 84.4MB/s]\n"
          ]
        }
      ]
    },
    {
      "cell_type": "code",
      "source": [
        "!unzip /content/traffic_sign_dataset/gtsrb-german-traffic-sign.zip\n"
      ],
      "metadata": {
        "id": "8b8ivyU2SY7i"
      },
      "execution_count": null,
      "outputs": []
    },
    {
      "cell_type": "code",
      "source": [
        "!rm -r /content/traffic_sign_dataset/gtsrb-german-traffic-sign.zip\n",
        "!rm -r /content/traffic_sign_dataset/traffic_sign_dataset/Meta\n",
        "!rm -r /content/traffic_sign_dataset/traffic_sign_dataset/Test\n",
        "!rm -r /content/traffic_sign_dataset/traffic_sign_dataset/meta\n",
        "!rm -r /content/traffic_sign_dataset/traffic_sign_dataset/train"
      ],
      "metadata": {
        "id": "eRpLvHLM0Na_"
      },
      "execution_count": 8,
      "outputs": []
    },
    {
      "cell_type": "code",
      "source": [
        "import os\n",
        "import pandas as pd\n",
        "import numpy as np\n",
        "import matplotlib.pyplot as plt\n",
        "from matplotlib.image import imread\n",
        "import seaborn as sns\n",
        "import random\n",
        "from PIL import Image\n",
        "from sklearn.model_selection import train_test_split\n",
        "from tensorflow.keras.utils import to_categorical\n",
        "import tensorflow as tf\n",
        "from tensorflow.keras.models import Sequential\n",
        "from tensorflow.keras.layers import Dense, Flatten, Dropout, Conv2D, MaxPool2D\n"
      ],
      "metadata": {
        "id": "jy6-Ro0UViaI"
      },
      "execution_count": 4,
      "outputs": []
    },
    {
      "cell_type": "code",
      "source": [
        "# Plotting 12 immages to check the dataset\n",
        "plt.figure(figsize=(12,12))\n",
        "path = '/content/traffic_sign_dataset/traffic_sign_dataset/test'\n",
        "for i in range(1,17):\n",
        "  plt.subplot(4,4,i)\n",
        "  plt.tight_layout()\n",
        "  rand_img = imread(path + '/' + random.choice(sorted(os.listdir(path))))\n",
        "  plt.imshow(rand_img)\n",
        "  plt.xlabel(rand_img.shape[1], fontsize = 10) #width of image\n",
        "  plt.xlabel(rand_img.shape[0], fontsize = 10) # height of the image\n"
      ],
      "metadata": {
        "id": "sgto9SSmXO1C"
      },
      "execution_count": null,
      "outputs": []
    },
    {
      "cell_type": "code",
      "source": [
        "# As the size of the images are different we need to equalize them so we will take mean of dimensions\n",
        "dim1 = []\n",
        "dim2 = []\n",
        "\n",
        "for i in range(0,43):\n",
        "  labels = '/content/traffic_sign_dataset/traffic_sign_dataset/Train' + '/{0}'.format(i)\n",
        "  image_path = os.listdir(labels)\n",
        "  for x in image_path:\n",
        "    img = imread(labels + '/' + x)\n",
        "    dim1.append(img.shape[0])\n",
        "    dim2.append(img.shape[1])"
      ],
      "metadata": {
        "id": "d6WFvfZMXOup"
      },
      "execution_count": 6,
      "outputs": []
    },
    {
      "cell_type": "code",
      "source": [
        "# Printing mean dimensions of images\n",
        "print(\"Dimensions 1 Mean : \", np.mean(dim1), \" Dimension 2 Mean : \", np.mean(dim2))"
      ],
      "metadata": {
        "colab": {
          "base_uri": "https://localhost:8080/"
        },
        "id": "ll4IwdlyXOeN",
        "outputId": "f9fbeb40-3f09-4f75-d001-9915116f584b"
      },
      "execution_count": 7,
      "outputs": [
        {
          "output_type": "stream",
          "name": "stdout",
          "text": [
            "Dimensions 1 Mean :  50.328929582493814  Dimension 2 Mean :  50.83587951745773\n"
          ]
        }
      ]
    },
    {
      "cell_type": "code",
      "source": [
        "# Now we will reshape the image to (50, 50)\n",
        "\n",
        "images = []\n",
        "label_id = []\n",
        "\n",
        "for i in range(43):\n",
        "  labels = '/content/traffic_sign_dataset/traffic_sign_dataset/Train' + '/{0}'.format(i)\n",
        "  image_path = os.listdir(labels)\n",
        "  for x in image_path:\n",
        "    img = Image.open(labels + '/' + x)\n",
        "    img = img.resize((50,50))\n",
        "    img = np.array(img)\n",
        "    images.append(img)\n",
        "    label_id.append(i)"
      ],
      "metadata": {
        "id": "6n_tljfEeAD-"
      },
      "execution_count": 8,
      "outputs": []
    },
    {
      "cell_type": "code",
      "source": [
        "# Converting images into numpy array\n",
        "images = np.array(images)\n",
        "# The pixel value of each image ranges between 0 and 255\n",
        "# Dividing each each image by 255 will scale the values btw 0 and 1\n",
        "# This is also known as normalisation\n",
        "images = images/255\n",
        "# Sorting the labelid's into a nupmy array\n",
        "lable_id = np.array(label_id)\n",
        "lable_id.shape"
      ],
      "metadata": {
        "colab": {
          "base_uri": "https://localhost:8080/"
        },
        "id": "Vw_zcqgDd_0s",
        "outputId": "ca6b7c91-4b8d-4f50-994b-1caf64af0333"
      },
      "execution_count": 9,
      "outputs": [
        {
          "output_type": "execute_result",
          "data": {
            "text/plain": [
              "(39209,)"
            ]
          },
          "metadata": {},
          "execution_count": 9
        }
      ]
    },
    {
      "cell_type": "code",
      "source": [
        "images.shape"
      ],
      "metadata": {
        "colab": {
          "base_uri": "https://localhost:8080/"
        },
        "id": "MzWIXmb7gVkJ",
        "outputId": "7f5abf7d-7d70-4ba1-bdf9-0320a2dcb7d2"
      },
      "execution_count": 10,
      "outputs": [
        {
          "output_type": "execute_result",
          "data": {
            "text/plain": [
              "(39209, 50, 50, 3)"
            ]
          },
          "metadata": {},
          "execution_count": 10
        }
      ]
    },
    {
      "cell_type": "code",
      "source": [
        "# Visualize the number of classes count\n",
        "\n",
        "label_counts = pd.DataFrame(label_id).value_counts()\n",
        "label_counts.head()"
      ],
      "metadata": {
        "colab": {
          "base_uri": "https://localhost:8080/"
        },
        "id": "xTNPXgIngVaD",
        "outputId": "12601ed2-6685-4061-f84d-51b31159d2cc"
      },
      "execution_count": 11,
      "outputs": [
        {
          "output_type": "execute_result",
          "data": {
            "text/plain": [
              "2     2250\n",
              "1     2220\n",
              "13    2160\n",
              "12    2100\n",
              "38    2070\n",
              "dtype: int64"
            ]
          },
          "metadata": {},
          "execution_count": 11
        }
      ]
    },
    {
      "cell_type": "code",
      "source": [
        "# Splitting the data\n",
        "\n",
        "x_train, x_val, y_train, y_val = train_test_split(images, label_id, test_size=0.2, random_state = 42)\n",
        "\n",
        "#one-hot encoding\n",
        "\"\"\"y_train_cat = to_categorical(y_train)\n",
        "y_val_cat = to_categorical(y_val)\"\"\"\n",
        "y_train = np.array(y_train)\n",
        "y_val = np.array(y_val)"
      ],
      "metadata": {
        "id": "HzIf0dF9g_Zl"
      },
      "execution_count": 12,
      "outputs": []
    },
    {
      "cell_type": "code",
      "source": [
        "model = Sequential()\n",
        "\n",
        "model.add(Conv2D(filters = 64, kernel_size = (3,3), input_shape = x_train.shape[1:], activation = 'relu', padding = 'same'))\n",
        "model.add((MaxPool2D(pool_size=(2,2))))\n",
        "model.add(Dropout(0,5))\n",
        "\n",
        "model.add(Conv2D(filters = 64, kernel_size = (3,3), activation = 'relu'))\n",
        "model.add((MaxPool2D(pool_size=(2,2))))\n",
        "model.add(Dropout(0,5))\n",
        "\n",
        "model.add(Flatten())\n",
        "model.add(Dense(128, activation = 'relu'))\n",
        "model.add(Dropout(0.5))\n",
        "model.add(Dense(43, activation = 'softmax'))"
      ],
      "metadata": {
        "id": "6jCj4ezHqvix"
      },
      "execution_count": 13,
      "outputs": []
    },
    {
      "cell_type": "code",
      "source": [
        "model.compile(loss = 'sparse_categorical_crossentropy', optimizer = 'adam', metrics = ['accuracy'])\n",
        "model.summary()"
      ],
      "metadata": {
        "colab": {
          "base_uri": "https://localhost:8080/"
        },
        "id": "vZuTSuff6Kyl",
        "outputId": "0e93e8bc-33a4-4088-daff-b3af83116fc3"
      },
      "execution_count": 14,
      "outputs": [
        {
          "output_type": "stream",
          "name": "stdout",
          "text": [
            "Model: \"sequential\"\n",
            "_________________________________________________________________\n",
            " Layer (type)                Output Shape              Param #   \n",
            "=================================================================\n",
            " conv2d (Conv2D)             (None, 50, 50, 64)        1792      \n",
            "                                                                 \n",
            " max_pooling2d (MaxPooling2D  (None, 25, 25, 64)       0         \n",
            " )                                                               \n",
            "                                                                 \n",
            " dropout (Dropout)           (None, 25, 25, 64)        0         \n",
            "                                                                 \n",
            " conv2d_1 (Conv2D)           (None, 23, 23, 64)        36928     \n",
            "                                                                 \n",
            " max_pooling2d_1 (MaxPooling  (None, 11, 11, 64)       0         \n",
            " 2D)                                                             \n",
            "                                                                 \n",
            " dropout_1 (Dropout)         (None, 11, 11, 64)        0         \n",
            "                                                                 \n",
            " flatten (Flatten)           (None, 7744)              0         \n",
            "                                                                 \n",
            " dense (Dense)               (None, 128)               991360    \n",
            "                                                                 \n",
            " dropout_2 (Dropout)         (None, 128)               0         \n",
            "                                                                 \n",
            " dense_1 (Dense)             (None, 43)                5547      \n",
            "                                                                 \n",
            "=================================================================\n",
            "Total params: 1,035,627\n",
            "Trainable params: 1,035,627\n",
            "Non-trainable params: 0\n",
            "_________________________________________________________________\n"
          ]
        }
      ]
    },
    {
      "cell_type": "code",
      "source": [
        "model.fit(x_train, y_train, epochs = 50, batch_size = 128, validation_data=(x_val, y_val), verbose = 2)"
      ],
      "metadata": {
        "colab": {
          "base_uri": "https://localhost:8080/"
        },
        "id": "T2pW5WkJ6LG9",
        "outputId": "89d9374f-e7b4-4d98-a3d9-b7d850310cfa"
      },
      "execution_count": 15,
      "outputs": [
        {
          "output_type": "stream",
          "name": "stdout",
          "text": [
            "Epoch 1/50\n",
            "246/246 - 16s - loss: 2.1405 - accuracy: 0.4217 - val_loss: 0.7277 - val_accuracy: 0.8350 - 16s/epoch - 65ms/step\n",
            "Epoch 2/50\n",
            "246/246 - 3s - loss: 0.8531 - accuracy: 0.7398 - val_loss: 0.2681 - val_accuracy: 0.9348 - 3s/epoch - 13ms/step\n",
            "Epoch 3/50\n",
            "246/246 - 3s - loss: 0.5603 - accuracy: 0.8244 - val_loss: 0.1780 - val_accuracy: 0.9537 - 3s/epoch - 13ms/step\n",
            "Epoch 4/50\n",
            "246/246 - 3s - loss: 0.4368 - accuracy: 0.8605 - val_loss: 0.1259 - val_accuracy: 0.9713 - 3s/epoch - 13ms/step\n",
            "Epoch 5/50\n",
            "246/246 - 4s - loss: 0.3549 - accuracy: 0.8862 - val_loss: 0.0953 - val_accuracy: 0.9790 - 4s/epoch - 14ms/step\n",
            "Epoch 6/50\n",
            "246/246 - 3s - loss: 0.3181 - accuracy: 0.8980 - val_loss: 0.0852 - val_accuracy: 0.9800 - 3s/epoch - 13ms/step\n",
            "Epoch 7/50\n",
            "246/246 - 3s - loss: 0.2805 - accuracy: 0.9094 - val_loss: 0.0736 - val_accuracy: 0.9825 - 3s/epoch - 13ms/step\n",
            "Epoch 8/50\n",
            "246/246 - 3s - loss: 0.2536 - accuracy: 0.9157 - val_loss: 0.0662 - val_accuracy: 0.9858 - 3s/epoch - 13ms/step\n",
            "Epoch 9/50\n",
            "246/246 - 4s - loss: 0.2241 - accuracy: 0.9265 - val_loss: 0.0575 - val_accuracy: 0.9865 - 4s/epoch - 15ms/step\n",
            "Epoch 10/50\n",
            "246/246 - 4s - loss: 0.2084 - accuracy: 0.9296 - val_loss: 0.0552 - val_accuracy: 0.9856 - 4s/epoch - 15ms/step\n",
            "Epoch 11/50\n",
            "246/246 - 3s - loss: 0.1948 - accuracy: 0.9340 - val_loss: 0.0467 - val_accuracy: 0.9865 - 3s/epoch - 14ms/step\n",
            "Epoch 12/50\n",
            "246/246 - 4s - loss: 0.1876 - accuracy: 0.9372 - val_loss: 0.0437 - val_accuracy: 0.9885 - 4s/epoch - 15ms/step\n",
            "Epoch 13/50\n",
            "246/246 - 4s - loss: 0.1639 - accuracy: 0.9437 - val_loss: 0.0413 - val_accuracy: 0.9892 - 4s/epoch - 15ms/step\n",
            "Epoch 14/50\n",
            "246/246 - 3s - loss: 0.1657 - accuracy: 0.9444 - val_loss: 0.0383 - val_accuracy: 0.9885 - 3s/epoch - 14ms/step\n",
            "Epoch 15/50\n",
            "246/246 - 4s - loss: 0.1488 - accuracy: 0.9490 - val_loss: 0.0392 - val_accuracy: 0.9892 - 4s/epoch - 15ms/step\n",
            "Epoch 16/50\n",
            "246/246 - 4s - loss: 0.1388 - accuracy: 0.9513 - val_loss: 0.0382 - val_accuracy: 0.9889 - 4s/epoch - 16ms/step\n",
            "Epoch 17/50\n",
            "246/246 - 4s - loss: 0.1341 - accuracy: 0.9526 - val_loss: 0.0336 - val_accuracy: 0.9917 - 4s/epoch - 15ms/step\n",
            "Epoch 18/50\n",
            "246/246 - 3s - loss: 0.1301 - accuracy: 0.9549 - val_loss: 0.0295 - val_accuracy: 0.9916 - 3s/epoch - 14ms/step\n",
            "Epoch 19/50\n",
            "246/246 - 4s - loss: 0.1252 - accuracy: 0.9557 - val_loss: 0.0331 - val_accuracy: 0.9906 - 4s/epoch - 15ms/step\n",
            "Epoch 20/50\n",
            "246/246 - 4s - loss: 0.1138 - accuracy: 0.9608 - val_loss: 0.0286 - val_accuracy: 0.9925 - 4s/epoch - 14ms/step\n",
            "Epoch 21/50\n",
            "246/246 - 3s - loss: 0.1119 - accuracy: 0.9607 - val_loss: 0.0285 - val_accuracy: 0.9920 - 3s/epoch - 14ms/step\n",
            "Epoch 22/50\n",
            "246/246 - 4s - loss: 0.1030 - accuracy: 0.9639 - val_loss: 0.0294 - val_accuracy: 0.9921 - 4s/epoch - 15ms/step\n",
            "Epoch 23/50\n",
            "246/246 - 4s - loss: 0.1049 - accuracy: 0.9626 - val_loss: 0.0348 - val_accuracy: 0.9903 - 4s/epoch - 15ms/step\n",
            "Epoch 24/50\n",
            "246/246 - 3s - loss: 0.0964 - accuracy: 0.9675 - val_loss: 0.0303 - val_accuracy: 0.9912 - 3s/epoch - 14ms/step\n",
            "Epoch 25/50\n",
            "246/246 - 3s - loss: 0.0977 - accuracy: 0.9666 - val_loss: 0.0304 - val_accuracy: 0.9921 - 3s/epoch - 14ms/step\n",
            "Epoch 26/50\n",
            "246/246 - 3s - loss: 0.0923 - accuracy: 0.9675 - val_loss: 0.0264 - val_accuracy: 0.9938 - 3s/epoch - 14ms/step\n",
            "Epoch 27/50\n",
            "246/246 - 4s - loss: 0.0861 - accuracy: 0.9698 - val_loss: 0.0280 - val_accuracy: 0.9931 - 4s/epoch - 16ms/step\n",
            "Epoch 28/50\n",
            "246/246 - 4s - loss: 0.0842 - accuracy: 0.9703 - val_loss: 0.0244 - val_accuracy: 0.9938 - 4s/epoch - 15ms/step\n",
            "Epoch 29/50\n",
            "246/246 - 3s - loss: 0.0860 - accuracy: 0.9705 - val_loss: 0.0261 - val_accuracy: 0.9929 - 3s/epoch - 14ms/step\n",
            "Epoch 30/50\n",
            "246/246 - 4s - loss: 0.0806 - accuracy: 0.9715 - val_loss: 0.0243 - val_accuracy: 0.9939 - 4s/epoch - 15ms/step\n",
            "Epoch 31/50\n",
            "246/246 - 4s - loss: 0.0791 - accuracy: 0.9718 - val_loss: 0.0274 - val_accuracy: 0.9926 - 4s/epoch - 15ms/step\n",
            "Epoch 32/50\n",
            "246/246 - 4s - loss: 0.0881 - accuracy: 0.9692 - val_loss: 0.0259 - val_accuracy: 0.9936 - 4s/epoch - 15ms/step\n",
            "Epoch 33/50\n",
            "246/246 - 3s - loss: 0.0745 - accuracy: 0.9740 - val_loss: 0.0246 - val_accuracy: 0.9938 - 3s/epoch - 14ms/step\n",
            "Epoch 34/50\n",
            "246/246 - 3s - loss: 0.0669 - accuracy: 0.9756 - val_loss: 0.0245 - val_accuracy: 0.9946 - 3s/epoch - 14ms/step\n",
            "Epoch 35/50\n",
            "246/246 - 3s - loss: 0.0658 - accuracy: 0.9772 - val_loss: 0.0249 - val_accuracy: 0.9932 - 3s/epoch - 14ms/step\n",
            "Epoch 36/50\n",
            "246/246 - 3s - loss: 0.0621 - accuracy: 0.9777 - val_loss: 0.0235 - val_accuracy: 0.9941 - 3s/epoch - 14ms/step\n",
            "Epoch 37/50\n",
            "246/246 - 4s - loss: 0.0656 - accuracy: 0.9765 - val_loss: 0.0233 - val_accuracy: 0.9940 - 4s/epoch - 16ms/step\n",
            "Epoch 38/50\n",
            "246/246 - 4s - loss: 0.0592 - accuracy: 0.9794 - val_loss: 0.0260 - val_accuracy: 0.9927 - 4s/epoch - 15ms/step\n",
            "Epoch 39/50\n",
            "246/246 - 5s - loss: 0.0594 - accuracy: 0.9784 - val_loss: 0.0244 - val_accuracy: 0.9941 - 5s/epoch - 19ms/step\n",
            "Epoch 40/50\n",
            "246/246 - 4s - loss: 0.0535 - accuracy: 0.9809 - val_loss: 0.0266 - val_accuracy: 0.9945 - 4s/epoch - 15ms/step\n",
            "Epoch 41/50\n",
            "246/246 - 4s - loss: 0.0574 - accuracy: 0.9791 - val_loss: 0.0269 - val_accuracy: 0.9938 - 4s/epoch - 15ms/step\n",
            "Epoch 42/50\n",
            "246/246 - 3s - loss: 0.0532 - accuracy: 0.9809 - val_loss: 0.0291 - val_accuracy: 0.9938 - 3s/epoch - 14ms/step\n",
            "Epoch 43/50\n",
            "246/246 - 3s - loss: 0.0545 - accuracy: 0.9806 - val_loss: 0.0213 - val_accuracy: 0.9950 - 3s/epoch - 14ms/step\n",
            "Epoch 44/50\n",
            "246/246 - 4s - loss: 0.0586 - accuracy: 0.9791 - val_loss: 0.0232 - val_accuracy: 0.9955 - 4s/epoch - 15ms/step\n",
            "Epoch 45/50\n",
            "246/246 - 3s - loss: 0.0488 - accuracy: 0.9826 - val_loss: 0.0220 - val_accuracy: 0.9952 - 3s/epoch - 14ms/step\n",
            "Epoch 46/50\n",
            "246/246 - 3s - loss: 0.0474 - accuracy: 0.9833 - val_loss: 0.0258 - val_accuracy: 0.9949 - 3s/epoch - 14ms/step\n",
            "Epoch 47/50\n",
            "246/246 - 4s - loss: 0.0470 - accuracy: 0.9836 - val_loss: 0.0232 - val_accuracy: 0.9944 - 4s/epoch - 15ms/step\n",
            "Epoch 48/50\n",
            "246/246 - 4s - loss: 0.0483 - accuracy: 0.9829 - val_loss: 0.0253 - val_accuracy: 0.9941 - 4s/epoch - 15ms/step\n",
            "Epoch 49/50\n",
            "246/246 - 4s - loss: 0.0452 - accuracy: 0.9837 - val_loss: 0.0234 - val_accuracy: 0.9939 - 4s/epoch - 15ms/step\n",
            "Epoch 50/50\n",
            "246/246 - 3s - loss: 0.0450 - accuracy: 0.9842 - val_loss: 0.0208 - val_accuracy: 0.9955 - 3s/epoch - 14ms/step\n"
          ]
        },
        {
          "output_type": "execute_result",
          "data": {
            "text/plain": [
              "<keras.callbacks.History at 0x7fd23384f4c0>"
            ]
          },
          "metadata": {},
          "execution_count": 15
        }
      ]
    },
    {
      "cell_type": "code",
      "source": [
        "evaluation = pd.DataFrame(model.history.history)\n",
        "evaluation[['accuracy', 'val_accuracy']].plot()\n",
        "evaluation[['loss', 'val_loss']].plot()"
      ],
      "metadata": {
        "colab": {
          "base_uri": "https://localhost:8080/",
          "height": 861
        },
        "id": "FwZprU_gCcc5",
        "outputId": "9c39c498-893f-4f31-9373-c1441f4e0333"
      },
      "execution_count": 16,
      "outputs": [
        {
          "output_type": "execute_result",
          "data": {
            "text/plain": [
              "<Axes: >"
            ]
          },
          "metadata": {},
          "execution_count": 16
        },
        {
          "output_type": "display_data",
          "data": {
            "text/plain": [
              "<Figure size 640x480 with 1 Axes>"
            ],
            "image/png": "[encoded data removed]"
          },
          "metadata": {}
        },
        {
          "output_type": "display_data",
          "data": {
            "text/plain": [
              "<Figure size 640x480 with 1 Axes>"
            ],
            "image/png": "[encoded data removed]"
          },
          "metadata": {}
        }
      ]
    },
    {
      "cell_type": "code",
      "source": [
        "test_path = '/content/traffic_sign_dataset/Test'\n",
        "!rm traffic_sign_dataset/Test/GT-final_test.csv"
      ],
      "metadata": {
        "id": "SeMf3IZeC089"
      },
      "execution_count": 17,
      "outputs": []
    },
    {
      "cell_type": "code",
      "source": [
        "# Defining function that will scale images\n",
        "\n",
        "from PIL import Image\n",
        "\n",
        "def scaling(test_images, test_path):\n",
        "  images = []\n",
        "\n",
        "  image_path = test_images\n",
        "\n",
        "  for x in image_path:\n",
        "    img = Image.open(test_path + '/' + x)\n",
        "    img = img.resize((50,50))\n",
        "    img = np.array(img)\n",
        "    images.append(img)\n",
        "\n",
        "  #Converting images into numpy array\n",
        "  images = np.array(images)\n",
        "\n",
        "  # The pixel value of each image ranges between o and 155\n",
        "  # Dividing each image by 255 will scale the values between 0 and 1. this is also known as normalization\n",
        "  images = images/255\n",
        "\n",
        "  return images\n"
      ],
      "metadata": {
        "id": "WqvYl2CMKv9o"
      },
      "execution_count": 20,
      "outputs": []
    },
    {
      "cell_type": "code",
      "source": [
        "test_images = scaling(sorted(os.listdir(test_path)), test_path) # Calling the the function on test images"
      ],
      "metadata": {
        "id": "3N1kCh2_LxaP"
      },
      "execution_count": 21,
      "outputs": []
    },
    {
      "cell_type": "code",
      "source": [
        "# read the label ids from Test.csv and store the values of the class id in y_test variable\n",
        "test = pd.read_csv('traffic_sign_dataset/Test.csv')\n",
        "y_test = test['ClassId'].values\n",
        "y_test"
      ],
      "metadata": {
        "colab": {
          "base_uri": "https://localhost:8080/"
        },
        "id": "VIth_xMVMRug",
        "outputId": "cc75f520-4592-4670-e26c-054a6ce0f495"
      },
      "execution_count": 22,
      "outputs": [
        {
          "output_type": "execute_result",
          "data": {
            "text/plain": [
              "array([16,  1, 38, ...,  6,  7, 10])"
            ]
          },
          "metadata": {},
          "execution_count": 22
        }
      ]
    },
    {
      "cell_type": "code",
      "source": [
        "y_pred_probs = model.predict(test_images)\n",
        "y_pred_classes = np.argmax(y_pred_probs, axis=1)\n",
        "y_pred_classes"
      ],
      "metadata": {
        "colab": {
          "base_uri": "https://localhost:8080/"
        },
        "id": "WInGza4UMRpm",
        "outputId": "dfd83c83-8575-49dc-86f6-9e382f32d067"
      },
      "execution_count": 27,
      "outputs": [
        {
          "output_type": "stream",
          "name": "stdout",
          "text": [
            "395/395 [==============================] - 1s 3ms/step\n"
          ]
        },
        {
          "output_type": "execute_result",
          "data": {
            "text/plain": [
              "array([16,  1, 38, ...,  5,  7, 10])"
            ]
          },
          "metadata": {},
          "execution_count": 27
        }
      ]
    },
    {
      "cell_type": "code",
      "source": [
        "# Storing all lables\n",
        "all_labels = ['Speed limit (20km/h)','Speed limit (30km/h)','Speed limit (50km/h)','Speed limit (60km/h)',\n",
        "              'Speed limit (70km/h)','Speed limit (80km/h)','End of speed limit (80km/h)','Speed limit (100km/h)',\n",
        "              'Speed limit (120km/h)','No passing','No passing for vechiles over 3.5 metric tons',\n",
        "              'Right-of-way at the next intersection','Priority road','Yield','Stop','No vechiles',\n",
        "              'Vechiles over 3.5 metric tons prohibited','No entry','General caution','Dangerous curve to the left',\n",
        "              'Dangerous curve to the right','Double curve','Bumpy road','Slippery road','Road narrows on the right',\n",
        "              'Road work','Traffic signals','Pedestrians','Children crossing','Bicycles crossing','Beware of ice/snow',\n",
        "              'Wild animals crossing','End of all speed and passing limits','Turn right ahead','Turn left ahead',\n",
        "              'Ahead only','Go straight or right','Go straight or left','Keep right','Keep left','Roundabout mandatory',\n",
        "              'End of no passing','End of no passing by vechiles over 3.5 metric']"
      ],
      "metadata": {
        "id": "Kr6htmO8MReh"
      },
      "execution_count": 30,
      "outputs": []
    },
    {
      "cell_type": "code",
      "source": [
        "# Visualize the test image\n",
        "img = Image.open(test_path + '/00001.png')\n",
        "img"
      ],
      "metadata": {
        "colab": {
          "base_uri": "https://localhost:8080/",
          "height": 62
        },
        "id": "Qe0hAbXPODvW",
        "outputId": "2edf4b85-0b9f-43bb-8365-8047737b8a33"
      },
      "execution_count": 29,
      "outputs": [
        {
          "output_type": "execute_result",
          "data": {
            "text/plain": [
              "<PIL.PngImagePlugin.PngImageFile image mode=RGB size=42x45>"
            ],
            "image/png": "[encoded data removed]"
          },
          "metadata": {},
          "execution_count": 29
        }
      ]
    },
    {
      "cell_type": "code",
      "source": [
        "# Original Label\n",
        "\n",
        "print(\"Original Label : \", all_labels[y_test[1]])"
      ],
      "metadata": {
        "colab": {
          "base_uri": "https://localhost:8080/"
        },
        "id": "-bnssvCbORxW",
        "outputId": "0f4ddac7-9179-4898-a93b-ff65bfa91c0f"
      },
      "execution_count": 31,
      "outputs": [
        {
          "output_type": "stream",
          "name": "stdout",
          "text": [
            "Original Label :  Speed limit (30km/h)\n"
          ]
        }
      ]
    },
    {
      "cell_type": "code",
      "source": [
        "# Predicted label\n",
        "print(\"Predicted Label : \", all_labels[y_pred_classes[1]])"
      ],
      "metadata": {
        "colab": {
          "base_uri": "https://localhost:8080/"
        },
        "id": "UN5tsJITOkXI",
        "outputId": "f80c49d8-04e0-4b17-d4bc-e474ae0cfbbc"
      },
      "execution_count": 34,
      "outputs": [
        {
          "output_type": "stream",
          "name": "stdout",
          "text": [
            "Predicted Label :  Speed limit (30km/h)\n"
          ]
        }
      ]
    }
  ]
}